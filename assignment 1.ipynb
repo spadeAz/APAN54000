{
 "cells": [
  {
   "cell_type": "markdown",
   "source": [
    "Reading JSON string file into a Python array of dictionaries"
   ],
   "metadata": {
    "collapsed": false
   }
  },
  {
   "cell_type": "code",
   "execution_count": 42,
   "outputs": [],
   "source": [
    "import json\n",
    "\n",
    "json_data = open(\"webhose_apple.json\").readlines()\n",
    "newsfeeds = []\n",
    "for line in json_data:\n",
    "    newsfeeds.append(json.loads(line))"
   ],
   "metadata": {
    "collapsed": false,
    "pycharm": {
     "name": "#%%\n"
    }
   }
  },
  {
   "cell_type": "markdown",
   "source": [
    "Print the JSON object schema"
   ],
   "metadata": {
    "collapsed": false
   }
  },
  {
   "cell_type": "code",
   "execution_count": 47,
   "outputs": [
    {
     "data": {
      "text/plain": "{'$schema': 'http://json-schema.org/schema#',\n 'type': 'object',\n 'properties': {'thread': {'type': 'object',\n   'properties': {'uuid': {'type': 'string'},\n    'url': {'type': 'string'},\n    'site_full': {'type': 'string'},\n    'site': {'type': 'string'},\n    'site_section': {'type': 'string'},\n    'site_categories': {'type': 'array', 'items': {'type': 'string'}},\n    'section_title': {'type': 'string'},\n    'title': {'type': 'string'},\n    'title_full': {'type': 'string'},\n    'published': {'type': 'string'},\n    'replies_count': {'type': 'integer'},\n    'participants_count': {'type': 'integer'},\n    'site_type': {'type': 'string'},\n    'country': {'type': ['null', 'string']},\n    'spam_score': {'type': 'number'},\n    'main_image': {'type': ['null', 'string']},\n    'performance_score': {'type': 'integer'},\n    'domain_rank': {'type': ['integer', 'null']},\n    'social': {'type': 'object',\n     'properties': {'facebook': {'type': 'object',\n       'properties': {'likes': {'type': 'integer'},\n        'comments': {'type': 'integer'},\n        'shares': {'type': 'integer'}},\n       'required': ['comments', 'likes', 'shares']},\n      'gplus': {'type': 'object',\n       'properties': {'shares': {'type': 'integer'}},\n       'required': ['shares']},\n      'pinterest': {'type': 'object',\n       'properties': {'shares': {'type': 'integer'}},\n       'required': ['shares']},\n      'linkedin': {'type': 'object',\n       'properties': {'shares': {'type': 'integer'}},\n       'required': ['shares']},\n      'stumbledupon': {'type': 'object',\n       'properties': {'shares': {'type': 'integer'}},\n       'required': ['shares']},\n      'vk': {'type': 'object',\n       'properties': {'shares': {'type': 'integer'}},\n       'required': ['shares']}},\n     'required': ['facebook',\n      'gplus',\n      'linkedin',\n      'pinterest',\n      'stumbledupon',\n      'vk']}},\n   'required': ['country',\n    'domain_rank',\n    'main_image',\n    'participants_count',\n    'performance_score',\n    'published',\n    'replies_count',\n    'section_title',\n    'site',\n    'site_categories',\n    'site_full',\n    'site_section',\n    'site_type',\n    'social',\n    'spam_score',\n    'title',\n    'title_full',\n    'url',\n    'uuid']},\n  'uuid': {'type': 'string'},\n  'url': {'type': 'string'},\n  'ord_in_thread': {'type': 'integer'},\n  'parent_url': {'type': 'null'},\n  'author': {'type': 'string'},\n  'published': {'type': 'string'},\n  'title': {'type': 'string'},\n  'text': {'type': 'string'},\n  'highlightText': {'type': 'string'},\n  'highlightTitle': {'type': 'string'},\n  'highlightThreadTitle': {'type': 'string'},\n  'language': {'type': 'string'},\n  'external_links': {'type': 'array', 'items': {'type': 'string'}},\n  'external_images': {'type': 'array',\n   'items': {'type': 'object',\n    'properties': {'url': {'type': 'string'},\n     'meta_info': {'type': 'string'},\n     'uuid': {'type': 'string'},\n     'label': {'type': 'array', 'items': {'type': 'string'}},\n     'text': {'type': ['null', 'string']}},\n    'required': ['label', 'meta_info', 'text', 'url', 'uuid']}},\n  'entities': {'type': 'object',\n   'properties': {'persons': {'type': 'array',\n     'items': {'type': 'object',\n      'properties': {'name': {'type': 'string'},\n       'sentiment': {'type': 'string'}},\n      'required': ['name', 'sentiment']}},\n    'organizations': {'type': 'array',\n     'items': {'type': 'object',\n      'properties': {'name': {'type': 'string'},\n       'sentiment': {'type': 'string'}},\n      'required': ['name', 'sentiment']}},\n    'locations': {'type': 'array',\n     'items': {'type': 'object',\n      'properties': {'name': {'type': 'string'},\n       'sentiment': {'type': 'string'}},\n      'required': ['name', 'sentiment']}}},\n   'required': ['locations', 'organizations', 'persons']},\n  'rating': {'type': 'null'},\n  'crawled': {'type': 'string'}},\n 'required': ['author',\n  'crawled',\n  'entities',\n  'external_images',\n  'external_links',\n  'highlightText',\n  'highlightThreadTitle',\n  'highlightTitle',\n  'language',\n  'ord_in_thread',\n  'parent_url',\n  'published',\n  'rating',\n  'text',\n  'thread',\n  'title',\n  'url',\n  'uuid']}"
     },
     "execution_count": 47,
     "metadata": {},
     "output_type": "execute_result"
    }
   ],
   "source": [
    "import json\n",
    "from genson import SchemaBuilder\n",
    "\n",
    "builder = SchemaBuilder()\n",
    "\n",
    "json_data=open(\"webhose_apple.json\").readlines()\n",
    "\n",
    "for line in json_data:\n",
    "    datastore = json.loads(line)\n",
    "    builder.add_object(datastore )\n",
    "\n",
    "builder.to_schema()"
   ],
   "metadata": {
    "collapsed": false,
    "pycharm": {
     "name": "#%%\n"
    }
   }
  },
  {
   "cell_type": "markdown",
   "source": [
    "Print the count of JSON objects"
   ],
   "metadata": {
    "collapsed": false
   }
  },
  {
   "cell_type": "code",
   "execution_count": 43,
   "outputs": [
    {
     "name": "stdout",
     "output_type": "stream",
     "text": [
      "10800\n"
     ]
    }
   ],
   "source": [
    "print(len(newsfeeds))"
   ],
   "metadata": {
    "collapsed": false,
    "pycharm": {
     "name": "#%%\n"
    }
   }
  },
  {
   "cell_type": "markdown",
   "source": [
    "Print the first 5 objects where \"title\" field contain s query term \"iPad\""
   ],
   "metadata": {
    "collapsed": false
   }
  },
  {
   "cell_type": "code",
   "execution_count": 44,
   "outputs": [
    {
     "data": {
      "text/plain": "                                               thread  \\\n0   {'uuid': '958670c1717dd8f1edbe33369ee12469c1ca...   \n13  {'uuid': 'e4ff2b4a02fc20a99825edc432e31e30afb9...   \n15  {'uuid': '5881df5d587cb529de901e93940e6795fa01...   \n23  {'uuid': '271601a608ad7d3df50830441f63b7939ae4...   \n31  {'uuid': 'eedf4f0e58e84ebdb3609d3770144b9069cc...   \n\n                                        uuid  \\\n0   958670c1717dd8f1edbe33369ee12469c1cafdf1   \n13  e4ff2b4a02fc20a99825edc432e31e30afb9a19a   \n15  5881df5d587cb529de901e93940e6795fa01fc0e   \n23  271601a608ad7d3df50830441f63b7939ae4fe5c   \n31  eedf4f0e58e84ebdb3609d3770144b9069cc9f06   \n\n                                                  url  ord_in_thread  \\\n0   http://omgili.com/ri/.wHSUbtEfZRyyLJKogCgQjT1s...              0   \n13  http://omgili.com/ri/.wHSUbtEfZR5LzcuTxuUP_kw8...              0   \n15  http://omgili.com/ri/.wHSUbtEfZRFxmM.WvLouU9WC...              0   \n23  http://omgili.com/ri/.wHSUbtEfZTT_S6x0widpmkY8...              0   \n31  http://omgili.com/ri/.wHSUbtEfZRFxmM.WvLouRptT...              0   \n\n   parent_url             author                      published  \\\n0        None  Roland Hutchinson  2020-06-03T10:00:00.000+03:00   \n13       None    Samuel Martinez  2020-06-03T07:49:00.000+03:00   \n15       None          IIC Deals  2020-06-03T07:42:00.000+03:00   \n23       None        Juli Clover  2020-06-03T06:30:00.000+03:00   \n31       None      Robert Nardis  2020-06-03T05:32:00.000+03:00   \n\n                                                title  \\\n0   New iPad Air may come with USB-C not Lightning...   \n13  Canalys expects drops in iPad sales and PC shi...   \n15  Apple Canada Refurbished iPad (6th-Gen) Back i...   \n23  Next iPad Air Could Feature a USB-C Port Inste...   \n31  Report: Fourthgeneration iPad Air to switch to...   \n\n                                                 text highlightText  \\\n0   Apple is expected to launch its fourth generat...                 \n13  It seems that the coronavirus will keep on aff...                 \n15  Help support iPhoneinCanada.ca by whitelisting...                 \n23  Apple's First MacBook Pro With a Retina Displa...                 \n31  Report: Fourthgeneration iPad Air to switch to...                 \n\n   highlightTitle highlightThreadTitle language  \\\n0                                       english   \n13                                      english   \n15                                      english   \n23                                      english   \n31                                      english   \n\n                                       external_links external_images  \\\n0                                                  []              []   \n13                                                 []              []   \n15  [https://apple.sjv.io/Xe2XX, https://www.apple...              []   \n23                                                 []              []   \n31  [https://www.facebook.com/iPhoneFirmware/, htt...              []   \n\n                                             entities rating  \\\n0   {'persons': [{'name': 'mac otakara', 'sentimen...   None   \n13  {'persons': [], 'organizations': [{'name': 'ap...   None   \n15  {'persons': [], 'organizations': [{'name': 'ap...   None   \n23  {'persons': [{'name': 'tim cook', 'sentiment':...   None   \n31  {'persons': [{'name': 'macotakara', 'sentiment...   None   \n\n                          crawled  \n0   2020-06-03T10:10:13.000+03:00  \n13  2020-06-03T08:48:17.003+03:00  \n15  2020-06-03T07:44:54.012+03:00  \n23  2020-06-03T06:34:27.009+03:00  \n31  2020-06-03T06:20:53.008+03:00  ",
      "text/html": "<div>\n<style scoped>\n    .dataframe tbody tr th:only-of-type {\n        vertical-align: middle;\n    }\n\n    .dataframe tbody tr th {\n        vertical-align: top;\n    }\n\n    .dataframe thead th {\n        text-align: right;\n    }\n</style>\n<table border=\"1\" class=\"dataframe\">\n  <thead>\n    <tr style=\"text-align: right;\">\n      <th></th>\n      <th>thread</th>\n      <th>uuid</th>\n      <th>url</th>\n      <th>ord_in_thread</th>\n      <th>parent_url</th>\n      <th>author</th>\n      <th>published</th>\n      <th>title</th>\n      <th>text</th>\n      <th>highlightText</th>\n      <th>highlightTitle</th>\n      <th>highlightThreadTitle</th>\n      <th>language</th>\n      <th>external_links</th>\n      <th>external_images</th>\n      <th>entities</th>\n      <th>rating</th>\n      <th>crawled</th>\n    </tr>\n  </thead>\n  <tbody>\n    <tr>\n      <th>0</th>\n      <td>{'uuid': '958670c1717dd8f1edbe33369ee12469c1ca...</td>\n      <td>958670c1717dd8f1edbe33369ee12469c1cafdf1</td>\n      <td>http://omgili.com/ri/.wHSUbtEfZRyyLJKogCgQjT1s...</td>\n      <td>0</td>\n      <td>None</td>\n      <td>Roland Hutchinson</td>\n      <td>2020-06-03T10:00:00.000+03:00</td>\n      <td>New iPad Air may come with USB-C not Lightning...</td>\n      <td>Apple is expected to launch its fourth generat...</td>\n      <td></td>\n      <td></td>\n      <td></td>\n      <td>english</td>\n      <td>[]</td>\n      <td>[]</td>\n      <td>{'persons': [{'name': 'mac otakara', 'sentimen...</td>\n      <td>None</td>\n      <td>2020-06-03T10:10:13.000+03:00</td>\n    </tr>\n    <tr>\n      <th>13</th>\n      <td>{'uuid': 'e4ff2b4a02fc20a99825edc432e31e30afb9...</td>\n      <td>e4ff2b4a02fc20a99825edc432e31e30afb9a19a</td>\n      <td>http://omgili.com/ri/.wHSUbtEfZR5LzcuTxuUP_kw8...</td>\n      <td>0</td>\n      <td>None</td>\n      <td>Samuel Martinez</td>\n      <td>2020-06-03T07:49:00.000+03:00</td>\n      <td>Canalys expects drops in iPad sales and PC shi...</td>\n      <td>It seems that the coronavirus will keep on aff...</td>\n      <td></td>\n      <td></td>\n      <td></td>\n      <td>english</td>\n      <td>[]</td>\n      <td>[]</td>\n      <td>{'persons': [], 'organizations': [{'name': 'ap...</td>\n      <td>None</td>\n      <td>2020-06-03T08:48:17.003+03:00</td>\n    </tr>\n    <tr>\n      <th>15</th>\n      <td>{'uuid': '5881df5d587cb529de901e93940e6795fa01...</td>\n      <td>5881df5d587cb529de901e93940e6795fa01fc0e</td>\n      <td>http://omgili.com/ri/.wHSUbtEfZRFxmM.WvLouU9WC...</td>\n      <td>0</td>\n      <td>None</td>\n      <td>IIC Deals</td>\n      <td>2020-06-03T07:42:00.000+03:00</td>\n      <td>Apple Canada Refurbished iPad (6th-Gen) Back i...</td>\n      <td>Help support iPhoneinCanada.ca by whitelisting...</td>\n      <td></td>\n      <td></td>\n      <td></td>\n      <td>english</td>\n      <td>[https://apple.sjv.io/Xe2XX, https://www.apple...</td>\n      <td>[]</td>\n      <td>{'persons': [], 'organizations': [{'name': 'ap...</td>\n      <td>None</td>\n      <td>2020-06-03T07:44:54.012+03:00</td>\n    </tr>\n    <tr>\n      <th>23</th>\n      <td>{'uuid': '271601a608ad7d3df50830441f63b7939ae4...</td>\n      <td>271601a608ad7d3df50830441f63b7939ae4fe5c</td>\n      <td>http://omgili.com/ri/.wHSUbtEfZTT_S6x0widpmkY8...</td>\n      <td>0</td>\n      <td>None</td>\n      <td>Juli Clover</td>\n      <td>2020-06-03T06:30:00.000+03:00</td>\n      <td>Next iPad Air Could Feature a USB-C Port Inste...</td>\n      <td>Apple's First MacBook Pro With a Retina Displa...</td>\n      <td></td>\n      <td></td>\n      <td></td>\n      <td>english</td>\n      <td>[]</td>\n      <td>[]</td>\n      <td>{'persons': [{'name': 'tim cook', 'sentiment':...</td>\n      <td>None</td>\n      <td>2020-06-03T06:34:27.009+03:00</td>\n    </tr>\n    <tr>\n      <th>31</th>\n      <td>{'uuid': 'eedf4f0e58e84ebdb3609d3770144b9069cc...</td>\n      <td>eedf4f0e58e84ebdb3609d3770144b9069cc9f06</td>\n      <td>http://omgili.com/ri/.wHSUbtEfZRFxmM.WvLouRptT...</td>\n      <td>0</td>\n      <td>None</td>\n      <td>Robert Nardis</td>\n      <td>2020-06-03T05:32:00.000+03:00</td>\n      <td>Report: Fourthgeneration iPad Air to switch to...</td>\n      <td>Report: Fourthgeneration iPad Air to switch to...</td>\n      <td></td>\n      <td></td>\n      <td></td>\n      <td>english</td>\n      <td>[https://www.facebook.com/iPhoneFirmware/, htt...</td>\n      <td>[]</td>\n      <td>{'persons': [{'name': 'macotakara', 'sentiment...</td>\n      <td>None</td>\n      <td>2020-06-03T06:20:53.008+03:00</td>\n    </tr>\n  </tbody>\n</table>\n</div>"
     },
     "execution_count": 44,
     "metadata": {},
     "output_type": "execute_result"
    }
   ],
   "source": [
    "from pandas.io.json import build_table_schema\n",
    "import pandas as pd\n",
    "df = pd.DataFrame(newsfeeds)\n",
    "df_ret = df[df['title'].str.contains(\"iPad\")]\n",
    "#df_ret['title']\n",
    "df_ret.head(5)\n",
    "#build_table_schema(df)"
   ],
   "metadata": {
    "collapsed": false,
    "pycharm": {
     "name": "#%%\n"
    }
   }
  },
  {
   "cell_type": "markdown",
   "source": [
    "Reading CSV"
   ],
   "metadata": {
    "collapsed": false,
    "pycharm": {
     "name": "#%% md\n"
    }
   }
  },
  {
   "cell_type": "code",
   "source": [
    "df = pd.read_csv('cb_sample.csv',sep=',')\n",
    "df.head(5)"
   ],
   "metadata": {
    "collapsed": false,
    "pycharm": {
     "name": "#%%\n"
    }
   },
   "execution_count": 45,
   "outputs": [
    {
     "data": {
      "text/plain": "              name         city            region country  \\\n0         Eventige     New York          New York      US   \n1          Eventik  Mexico City  Distrito Federal      MX   \n2          Eventil          NaN               NaN     NaN   \n3  Eventiles, Inc.      Seattle        Washington      US   \n4        Eventilio        Delhi             Delhi      IN   \n\n                                       category_list  \\\n0  Advertising,Brand Marketing,Digital Marketing,...   \n1                             Mobile,Music,Ticketing   \n2  Events,Information Services,Information Techno...   \n3                                           Software   \n4                                                iOS   \n\n                                category_groups_list  \\\n0  Advertising,Commerce and Shopping,Information ...   \n1  Events,Media and Entertainment,Mobile,Music an...   \n2  Events,Information Technology,Media and Entert...   \n3                                           Software   \n4                          Mobile,Platforms,Software   \n\n                                              cb_url    rank          domain  \n0   https://www.crunchbase.com/organization/eventige  225832    eventige.com  \n1    https://www.crunchbase.com/organization/eventik  463231  eventikapp.com  \n2    https://www.crunchbase.com/organization/eventil  333763     eventil.com  \n3  https://www.crunchbase.com/organization/eventi...  371260   eventiles.com  \n4  https://www.crunchbase.com/organization/eventilio  644884   eventilio.com  ",
      "text/html": "<div>\n<style scoped>\n    .dataframe tbody tr th:only-of-type {\n        vertical-align: middle;\n    }\n\n    .dataframe tbody tr th {\n        vertical-align: top;\n    }\n\n    .dataframe thead th {\n        text-align: right;\n    }\n</style>\n<table border=\"1\" class=\"dataframe\">\n  <thead>\n    <tr style=\"text-align: right;\">\n      <th></th>\n      <th>name</th>\n      <th>city</th>\n      <th>region</th>\n      <th>country</th>\n      <th>category_list</th>\n      <th>category_groups_list</th>\n      <th>cb_url</th>\n      <th>rank</th>\n      <th>domain</th>\n    </tr>\n  </thead>\n  <tbody>\n    <tr>\n      <th>0</th>\n      <td>Eventige</td>\n      <td>New York</td>\n      <td>New York</td>\n      <td>US</td>\n      <td>Advertising,Brand Marketing,Digital Marketing,...</td>\n      <td>Advertising,Commerce and Shopping,Information ...</td>\n      <td>https://www.crunchbase.com/organization/eventige</td>\n      <td>225832</td>\n      <td>eventige.com</td>\n    </tr>\n    <tr>\n      <th>1</th>\n      <td>Eventik</td>\n      <td>Mexico City</td>\n      <td>Distrito Federal</td>\n      <td>MX</td>\n      <td>Mobile,Music,Ticketing</td>\n      <td>Events,Media and Entertainment,Mobile,Music an...</td>\n      <td>https://www.crunchbase.com/organization/eventik</td>\n      <td>463231</td>\n      <td>eventikapp.com</td>\n    </tr>\n    <tr>\n      <th>2</th>\n      <td>Eventil</td>\n      <td>NaN</td>\n      <td>NaN</td>\n      <td>NaN</td>\n      <td>Events,Information Services,Information Techno...</td>\n      <td>Events,Information Technology,Media and Entert...</td>\n      <td>https://www.crunchbase.com/organization/eventil</td>\n      <td>333763</td>\n      <td>eventil.com</td>\n    </tr>\n    <tr>\n      <th>3</th>\n      <td>Eventiles, Inc.</td>\n      <td>Seattle</td>\n      <td>Washington</td>\n      <td>US</td>\n      <td>Software</td>\n      <td>Software</td>\n      <td>https://www.crunchbase.com/organization/eventi...</td>\n      <td>371260</td>\n      <td>eventiles.com</td>\n    </tr>\n    <tr>\n      <th>4</th>\n      <td>Eventilio</td>\n      <td>Delhi</td>\n      <td>Delhi</td>\n      <td>IN</td>\n      <td>iOS</td>\n      <td>Mobile,Platforms,Software</td>\n      <td>https://www.crunchbase.com/organization/eventilio</td>\n      <td>644884</td>\n      <td>eventilio.com</td>\n    </tr>\n  </tbody>\n</table>\n</div>"
     },
     "execution_count": 45,
     "metadata": {},
     "output_type": "execute_result"
    }
   ]
  },
  {
   "cell_type": "markdown",
   "source": [],
   "metadata": {
    "collapsed": false
   }
  },
  {
   "cell_type": "code",
   "execution_count": null,
   "outputs": [],
   "source": [
    "import csv\n",
    "from genson import SchemaBuilder\n",
    "\n",
    "builder = SchemaBuilder()\n",
    "\n",
    "csv_data=open(\"cb_sample.csv\").readlines()\n",
    "\n",
    "for line in csv_data:\n",
    "    datastore = json.loads(line)\n",
    "    builder.add_object(datastore )\n",
    "\n",
    "builder.to_schema()"
   ],
   "metadata": {
    "collapsed": false,
    "pycharm": {
     "name": "#%%\n"
    }
   }
  },
  {
   "cell_type": "markdown",
   "source": [
    "Print the count of entities"
   ],
   "metadata": {
    "collapsed": false
   }
  },
  {
   "cell_type": "code",
   "execution_count": 46,
   "outputs": [
    {
     "name": "stdout",
     "output_type": "stream",
     "text": [
      "99\n"
     ]
    }
   ],
   "source": [
    "print(len(df))"
   ],
   "metadata": {
    "collapsed": false,
    "pycharm": {
     "name": "#%%\n"
    }
   }
  },
  {
   "cell_type": "markdown",
   "source": [],
   "metadata": {
    "collapsed": false
   }
  },
  {
   "cell_type": "code",
   "execution_count": 35,
   "outputs": [
    {
     "data": {
      "text/plain": "'Eventige,Eventive Marketing,Eventmate,EventMates,EventNow,Eventomize,EventOrb,Eventmate,EventMates'"
     },
     "execution_count": 35,
     "metadata": {},
     "output_type": "execute_result"
    }
   ],
   "source": [
    "df = df.dropna()\n",
    "df_ret = df[df['city'].str.contains(\"New York\")]\n",
    "company_list = df_ret['name'].to_list()\n",
    "company_string = \",\".join(company_list)\n",
    "company_string"
   ],
   "metadata": {
    "collapsed": false,
    "pycharm": {
     "name": "#%%\n"
    }
   }
  }
 ],
 "metadata": {
  "kernelspec": {
   "display_name": "Python 3",
   "language": "python",
   "name": "python3"
  },
  "language_info": {
   "codemirror_mode": {
    "name": "ipython",
    "version": 2
   },
   "file_extension": ".py",
   "mimetype": "text/x-python",
   "name": "python",
   "nbconvert_exporter": "python",
   "pygments_lexer": "ipython2",
   "version": "2.7.6"
  }
 },
 "nbformat": 4,
 "nbformat_minor": 0
}