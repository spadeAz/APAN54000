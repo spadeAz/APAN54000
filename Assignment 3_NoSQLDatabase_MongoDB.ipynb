{
 "cells": [
  {
   "cell_type": "code",
   "execution_count": 2,
   "outputs": [],
   "source": [
    "from pymongo import MongoClient\n",
    "client = MongoClient('localhost',27017) ## or MongoClient(\"localhost:27\")\n",
    "db = client.apan5400"
   ],
   "metadata": {
    "collapsed": false,
    "pycharm": {
     "name": "#%%\n"
    }
   }
  },
  {
   "cell_type": "code",
   "execution_count": 43,
   "outputs": [
    {
     "name": "stdout",
     "output_type": "stream",
     "text": [
      "15\n"
     ]
    }
   ],
   "source": [
    "import json\n",
    "\n",
    "json_data = open(\"companies.json\").read()\n",
    "\n",
    "newsfeeds = []\n",
    "json_data = (json.loads(json_data))\n",
    "for line in json_data:\n",
    "    newsfeeds.append(line)\n",
    "print(len(newsfeeds))"
   ],
   "metadata": {
    "collapsed": false,
    "pycharm": {
     "name": "#%%\n"
    }
   }
  },
  {
   "cell_type": "code",
   "execution_count": 44,
   "outputs": [
    {
     "name": "stdout",
     "output_type": "stream",
     "text": [
      "[{'company': 'Apple', 'city': 'Cupertino', 'state': 'California', 'country': 'USA', 'description': 'American multinational technology company that designs, develops, and sells consumer electronics, computer software, and online services', 'employees': 154000, 'founded': 1976, 'revenue': 365.82}, {'company': 'Microsoft', 'city': 'Redmond', 'state': 'Washington', 'country': 'USA', 'description': 'American multinational technology company that develops, manufactures, licenses, supports, and sells computer software, consumer electronics, personal computers, and related services.', 'employees': 182268, 'founded': 1975, 'revenue': 161}, {'company': 'Amazon', 'city': 'Seattle', 'state': 'Washington', 'country': 'USA', 'description': 'American multinational technology company which focuses on e-commerce, cloud computing, digital streaming, and artificial intelligence.', 'employees': 1608000, 'founded': 1994, 'revenue': 469.83}, {'company': 'Alphabet', 'city': 'Mountain View', 'state': 'California', 'country': 'USA', 'description': 'American multinational technology company that specializes in Internet-related services and products, which include online advertising technologies, a search engine, cloud computing, software, and hardware.', 'employees': 156301, 'founded': 1998, 'revenue': 257.64}, {'company': 'Alibaba Group', 'city': 'Hangzhou', 'state': 'Zhejiang', 'country': 'China', 'description': 'Chinese\\xa0multinational\\xa0technology company\\xa0specializing in\\xa0e-commerce,\\xa0retail,\\xa0Internet, and\\xa0technology.', 'employees': 251462, 'founded': 1999, 'revenue': 109.48}, {'company': 'Sony Group', 'city': 'Tokyo', 'state': 'Tokyo', 'country': 'Japan', 'description': 'Japanese\\xa0multinational\\xa0conglomerate that manufactures consumer and professional electronic products, is the largest video game console company and one of the most\\xa0comprehensive media companies.', 'employees': 109700, 'founded': 1946, 'revenue': 81.38}, {'company': 'Samsung Electronics', 'city': 'Suwon', 'state': 'Gyeonggi', 'country': 'South Korea', 'description': \"South Korean multinational electronics company that is the world's largest manufacturer of mobile phones, smartphones, and memory chips.\", 'employees': 287439, 'founded': 1969, 'revenue': 232.8}, {'company': 'Mercedes-Benz Group', 'city': 'Stuttgart', 'state': 'Baden-Wurttemberg', 'country': 'Germany', 'description': \"German multinational automotive corporation that is one of the world's leading car and truck manufacturers.\", 'employees': 288481, 'founded': 1926, 'revenue': 175.83}, {'company': 'Tesla', 'city': 'Austin', 'state': 'Texas', 'country': 'USA', 'description': 'American company that designs and manufactures electric vehicles, battery energy storage, and related products and services.', 'employees': 99290, 'founded': 2003, 'revenue': 53.8}, {'company': 'British Petroleum', 'city': 'London', 'state': 'England', 'country': 'UK', 'description': 'British multinational oil and gas company involved in exploration, extraction, refining, distribution, marketing, power generation, and trading.', 'employees': 60000, 'founded': 2003, 'revenue': 164.19}, {'company': 'China National Petroleum Corporation', 'city': 'Beijing', 'country': 'China', 'description': 'Major national oil and gas corporation of China and one of the largest integrated energy groups in the world.', 'employees': 1242245, 'founded': 1988, 'revenue': 283.96}, {'company': 'Saudi Aramco', 'city': 'Dhahran', 'state': 'Eastern Province', 'country': 'Saudi Arabia', 'description': \"Saudi Arabian public petroleum and natural gas company with the world's second-largest proven crude oil reserves.\", 'employees': 79800, 'founded': 1933, 'revenue': 229.77}, {'company': 'Glencore', 'city': 'Baar', 'state': 'Zug', 'country': 'Switzerland', 'description': 'Anglo-Swiss multinational commodity trading and mining company.', 'employees': 135000, 'founded': 1974, 'revenue': 230.75}, {'company': 'Toyota Motor', 'city': 'Toyota', 'state': 'Aichi', 'country': 'Japan', 'description': 'Japanese multinational automotive manufacturer and one of the largest automobile manufacturers in the world.', 'employees': 366283, 'founded': 1937, 'revenue': 256.72}, {'company': 'Allianz', 'city': 'Munich', 'state': 'Bavaria', 'country': 'Germany', 'description': 'German multinational financial services company with core businesses of insurance and asset management.', 'employees': 150269, 'founded': 1890, 'revenue': 159.05}]\n"
     ]
    },
    {
     "data": {
      "text/plain": "<pymongo.results.InsertManyResult at 0x139a1bb20>"
     },
     "execution_count": 44,
     "metadata": {},
     "output_type": "execute_result"
    }
   ],
   "source": [
    "print(newsfeeds)\n",
    "collection = db.companies\n",
    "collection.insert_many(newsfeeds)"
   ],
   "metadata": {
    "collapsed": false,
    "pycharm": {
     "name": "#%%\n"
    }
   }
  },
  {
   "cell_type": "code",
   "execution_count": 47,
   "outputs": [
    {
     "data": {
      "text/plain": "15"
     },
     "execution_count": 47,
     "metadata": {},
     "output_type": "execute_result"
    }
   ],
   "source": [
    "total_docs = collection.count_documents({})\n",
    "total_docs"
   ],
   "metadata": {
    "collapsed": false,
    "pycharm": {
     "name": "#%%\n"
    }
   }
  },
  {
   "cell_type": "markdown",
   "source": [
    "# 1.Print the list of companies established in the 20th century in the descending order of the number of employees."
   ],
   "metadata": {
    "collapsed": false,
    "pycharm": {
     "name": "#%% md\n"
    }
   }
  },
  {
   "cell_type": "code",
   "execution_count": 141,
   "outputs": [
    {
     "name": "stdout",
     "output_type": "stream",
     "text": [
      "Amazon\n",
      "China National Petroleum Corporation\n",
      "Toyota Motor\n",
      "Mercedes-Benz Group\n",
      "Samsung Electronics\n",
      "Alibaba Group\n",
      "Microsoft\n",
      "Alphabet\n",
      "Apple\n",
      "Glencore\n"
     ]
    }
   ],
   "source": [
    "query1 = {\n",
    "    \"founded\": {\n",
    "        \"$gte\": 1900,\n",
    "        \"$lt\": 2000,\n",
    "    }\n",
    "}\n",
    "\n",
    "results = collection.find(query1).sort(\"employees\",-1)\n",
    "case = collection.count_documents(query1)\n",
    "for item in results[:10]:\n",
    "    print(item['company'])"
   ],
   "metadata": {
    "collapsed": false,
    "pycharm": {
     "name": "#%%\n"
    }
   }
  },
  {
   "cell_type": "markdown",
   "source": [
    "# 2. Print the totals of annual revenues of the companies headquartered in the USA and Germany, respectively."
   ],
   "metadata": {
    "collapsed": false,
    "pycharm": {
     "name": "#%% md\n"
    }
   }
  },
  {
   "cell_type": "code",
   "execution_count": 147,
   "outputs": [
    {
     "data": {
      "text/plain": "[{'_id': 'USA', 'revenue_sum': 1308.09},\n {'_id': 'Germany', 'revenue_sum': 334.88}]"
     },
     "execution_count": 147,
     "metadata": {},
     "output_type": "execute_result"
    }
   ],
   "source": [
    "pipeline1 = [\n",
    "    {'$match': {'country':{'$regex':'(USA)|(Germany)',\n",
    "                           \"$options\": 'i'}}},\n",
    "    {'$group': {'_id': \"$country\", 'revenue_sum':{'$sum': \"$revenue\"}}}\n",
    "]\n",
    "list(collection.aggregate(pipeline1))\n",
    "#results = collection.aggregate(pipeline1)\n",
    "#print(results)\n"
   ],
   "metadata": {
    "collapsed": false,
    "pycharm": {
     "name": "#%%\n"
    }
   }
  },
  {
   "cell_type": "markdown",
   "source": [
    "# 3. Print the city where the company that has the world's second largest proven crude oil reserves headquartered."
   ],
   "metadata": {
    "collapsed": false,
    "pycharm": {
     "name": "#%% md\n"
    }
   }
  },
  {
   "cell_type": "code",
   "execution_count": 153,
   "outputs": [
    {
     "name": "stdout",
     "output_type": "stream",
     "text": [
      "Dhahran\n"
     ]
    }
   ],
   "source": [
    "collection.create_index([('description', 'text')])\n",
    "query2= {\n",
    "    \"$text\" :{'$search': \"the world's second largest proven crude oil reserves\"}\n",
    "}\n",
    "\n",
    "results = collection.find(query2)\n",
    "print(results[0]['city'])"
   ],
   "metadata": {
    "collapsed": false,
    "pycharm": {
     "name": "#%%\n"
    }
   }
  },
  {
   "cell_type": "markdown",
   "source": [
    "# 4. Print the company established before 1950, which has the largest annual revenue."
   ],
   "metadata": {
    "collapsed": false,
    "pycharm": {
     "name": "#%% md\n"
    }
   }
  },
  {
   "cell_type": "code",
   "execution_count": 154,
   "outputs": [
    {
     "name": "stdout",
     "output_type": "stream",
     "text": [
      "Toyota Motor\n"
     ]
    }
   ],
   "source": [
    "query3 = {\n",
    "    \"founded\":{\n",
    "        '$lt': 1950,\n",
    "    }\n",
    "}\n",
    "\n",
    "results4 = collection.find(query3).sort('revenue',-1).limit(1)\n",
    "print(results4[0]['company'])\n"
   ],
   "metadata": {
    "collapsed": false,
    "pycharm": {
     "name": "#%%\n"
    }
   }
  },
  {
   "cell_type": "markdown",
   "source": [
    "# 5. Print the total revenue and the total number of employees of the e-commerce companies."
   ],
   "metadata": {
    "collapsed": false,
    "pycharm": {
     "name": "#%% md\n"
    }
   }
  },
  {
   "cell_type": "code",
   "execution_count": 152,
   "outputs": [
    {
     "data": {
      "text/plain": "[{'_id': None, 'revenue_sum': 579.31, 'emp_sum': 1859462}]"
     },
     "execution_count": 152,
     "metadata": {},
     "output_type": "execute_result"
    }
   ],
   "source": [
    "pipeline2 = [\n",
    "{'$match': {'description':{'$regex':'e-commerce',\n",
    "                           \"$options\": 'i'}}},\n",
    "    {'$group': {'_id': None, 'revenue_sum':{'$sum': \"$revenue\"}, 'emp_sum': {'$sum': '$employees'}}}\n",
    "]\n",
    "list(collection.aggregate(pipeline2))"
   ],
   "metadata": {
    "collapsed": false,
    "pycharm": {
     "name": "#%%\n"
    }
   }
  }
 ],
 "metadata": {
  "kernelspec": {
   "display_name": "Python 3",
   "language": "python",
   "name": "python3"
  },
  "language_info": {
   "codemirror_mode": {
    "name": "ipython",
    "version": 2
   },
   "file_extension": ".py",
   "mimetype": "text/x-python",
   "name": "python",
   "nbconvert_exporter": "python",
   "pygments_lexer": "ipython2",
   "version": "2.7.6"
  }
 },
 "nbformat": 4,
 "nbformat_minor": 0
}