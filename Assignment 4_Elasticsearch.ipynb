{
 "cells": [
  {
   "cell_type": "markdown",
   "source": [
    "## 1.Connect to Elasticsearch"
   ],
   "metadata": {
    "collapsed": false,
    "pycharm": {
     "name": "#%% md\n"
    }
   }
  },
  {
   "cell_type": "code",
   "execution_count": 1,
   "outputs": [],
   "source": [
    "from elasticsearch_dsl import connections\n",
    "client = connections.create_connection(hosts=[\"10.4.177.69\"],\n",
    "                     port=9200,\n",
    "                     http_auth=('elastic', 'elastic'),\n",
    "                     ca_certs='http_ca.crt',\n",
    "                     use_ssl=False,\n",
    "                     verify_certs=True)"
   ],
   "metadata": {
    "collapsed": false,
    "pycharm": {
     "name": "#%%\n"
    }
   }
  },
  {
   "cell_type": "markdown",
   "source": [
    "## 2. Import Data and create an Elasticsearch index"
   ],
   "metadata": {
    "collapsed": false,
    "pycharm": {
     "name": "#%% md\n"
    }
   }
  },
  {
   "cell_type": "code",
   "execution_count": 2,
   "outputs": [
    {
     "name": "stdout",
     "output_type": "stream",
     "text": [
      "15\n"
     ]
    }
   ],
   "source": [
    "import json\n",
    "\n",
    "with open('companies.json') as f:\n",
    "    records = json.load(f)\n",
    "print(len(records))"
   ],
   "metadata": {
    "collapsed": false,
    "pycharm": {
     "name": "#%%\n"
    }
   }
  },
  {
   "cell_type": "code",
   "execution_count": 3,
   "outputs": [],
   "source": [
    "from elasticsearch.helpers import bulk\n",
    "\n",
    "resp = bulk(client, records, index = \"companies\")"
   ],
   "metadata": {
    "collapsed": false,
    "pycharm": {
     "name": "#%%\n"
    }
   }
  },
  {
   "cell_type": "markdown",
   "source": [
    "## 3. Run elasticsearch-dsl queries"
   ],
   "metadata": {
    "collapsed": false,
    "pycharm": {
     "name": "#%% md\n"
    }
   }
  },
  {
   "cell_type": "markdown",
   "source": [
    "### 3.1 Which company is the oldest?"
   ],
   "metadata": {
    "collapsed": false,
    "pycharm": {
     "name": "#%% md\n"
    }
   }
  },
  {
   "cell_type": "code",
   "execution_count": 4,
   "outputs": [
    {
     "name": "stdout",
     "output_type": "stream",
     "text": [
      "Allianz\n"
     ]
    }
   ],
   "source": [
    "from elasticsearch_dsl import Search\n",
    "\n",
    "s = Search(using=client, index=\"companies\")\n",
    "a1 = s.sort('founded')\n",
    "response1 = a1[0:1].execute()\n",
    "print(response1[0].company)"
   ],
   "metadata": {
    "collapsed": false,
    "pycharm": {
     "name": "#%%\n"
    }
   }
  },
  {
   "cell_type": "markdown",
   "source": [
    "### 3.2 Which Company's product is a search engine?"
   ],
   "metadata": {
    "collapsed": false,
    "pycharm": {
     "name": "#%% md\n"
    }
   }
  },
  {
   "cell_type": "code",
   "execution_count": 6,
   "outputs": [
    {
     "name": "stdout",
     "output_type": "stream",
     "text": [
      "Alphabet\n"
     ]
    }
   ],
   "source": [
    "s = Search(using=client, index=\"companies\")\n",
    "a2 = s.query(\"match\", description=\"search engine\")\n",
    "response2 = a2.execute()\n",
    "for hit in response2:\n",
    "    print(hit.company)"
   ],
   "metadata": {
    "collapsed": false,
    "pycharm": {
     "name": "#%%\n"
    }
   }
  },
  {
   "cell_type": "markdown",
   "source": [
    "### 3.3 Which companies are headquartered in the USA?"
   ],
   "metadata": {
    "collapsed": false,
    "pycharm": {
     "name": "#%% md\n"
    }
   }
  },
  {
   "cell_type": "code",
   "execution_count": 7,
   "outputs": [
    {
     "name": "stdout",
     "output_type": "stream",
     "text": [
      "Apple\n",
      "Microsoft\n",
      "Amazon\n",
      "Alphabet\n",
      "Tesla\n"
     ]
    }
   ],
   "source": [
    "s = Search(using=client, index=\"companies\")\n",
    "a3 = s.query(\"match\", country=\"USA\")\n",
    "response3 = a3.execute()\n",
    "for hit in response3:\n",
    "    print(hit.company)"
   ],
   "metadata": {
    "collapsed": false,
    "pycharm": {
     "name": "#%%\n"
    }
   }
  },
  {
   "cell_type": "markdown",
   "source": [
    "### 3.4 WHich companies have been founded in 1990s?"
   ],
   "metadata": {
    "collapsed": false,
    "pycharm": {
     "name": "#%% md\n"
    }
   }
  },
  {
   "cell_type": "code",
   "execution_count": 8,
   "outputs": [
    {
     "name": "stdout",
     "output_type": "stream",
     "text": [
      "Amazon\n",
      "Alphabet\n",
      "Alibaba Group\n"
     ]
    }
   ],
   "source": [
    "s = Search(using=client, index=\"companies\")\n",
    "a4 = s.filter('range', founded={\"gte\": 1990, \"lt\": 2000})\n",
    "response4 = a4.execute()\n",
    "for hit in response4:\n",
    "    print(hit.company)"
   ],
   "metadata": {
    "collapsed": false,
    "pycharm": {
     "name": "#%%\n"
    }
   }
  },
  {
   "cell_type": "markdown",
   "source": [
    "### 3.5 What is the total annual revenue of all companies in Asia?"
   ],
   "metadata": {
    "collapsed": false,
    "pycharm": {
     "name": "#%% md\n"
    }
   }
  },
  {
   "cell_type": "code",
   "execution_count": 10,
   "outputs": [
    {
     "name": "stdout",
     "output_type": "stream",
     "text": [
      "964.3399963378906\n"
     ]
    }
   ],
   "source": [
    "s = Search(using=client, index=\"companies\")\n",
    "a5 = s.query('match', country='China South Korea Japan')\n",
    "a5.aggs.metric('total_revenue', 'sum', field=\"revenue\")\n",
    "response5 = a5.execute()\n",
    "total_annual = response5.aggregations.total_revenue.value\n",
    "print(total_annual)"
   ],
   "metadata": {
    "collapsed": false,
    "pycharm": {
     "name": "#%%\n"
    }
   }
  }
 ],
 "metadata": {
  "kernelspec": {
   "display_name": "Python 3",
   "language": "python",
   "name": "python3"
  },
  "language_info": {
   "codemirror_mode": {
    "name": "ipython",
    "version": 2
   },
   "file_extension": ".py",
   "mimetype": "text/x-python",
   "name": "python",
   "nbconvert_exporter": "python",
   "pygments_lexer": "ipython2",
   "version": "2.7.6"
  }
 },
 "nbformat": 4,
 "nbformat_minor": 0
}